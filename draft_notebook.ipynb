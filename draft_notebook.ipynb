{
 "cells": [
  {
   "attachments": {},
   "cell_type": "markdown",
   "metadata": {},
   "source": [
    "### The main purpose of this notebook is to store some of the drafts, brainstorming and raw code that will be used and presented into the project.\n",
    "Also, it will be referenced as the origin of some of the operations used for the project"
   ]
  },
  {
   "cell_type": "code",
   "execution_count": 1,
   "metadata": {},
   "outputs": [],
   "source": [
    "# We import some of the libraries that will be used during the project\n",
    "import pandas as pd\n",
    "import numpy as np\n",
    "import seaborn as sns"
   ]
  },
  {
   "cell_type": "code",
   "execution_count": 2,
   "metadata": {},
   "outputs": [],
   "source": [
    "# We define attacks as our dataframe, from the attacks.csv file.\n",
    "attacks = pd.read_csv(\"attacks.csv\", index_col=0, encoding='latin-1')"
   ]
  },
  {
   "cell_type": "code",
   "execution_count": 26,
   "metadata": {},
   "outputs": [
    {
     "data": {
      "text/html": [
       "<div>\n",
       "<style scoped>\n",
       "    .dataframe tbody tr th:only-of-type {\n",
       "        vertical-align: middle;\n",
       "    }\n",
       "\n",
       "    .dataframe tbody tr th {\n",
       "        vertical-align: top;\n",
       "    }\n",
       "\n",
       "    .dataframe thead th {\n",
       "        text-align: right;\n",
       "    }\n",
       "</style>\n",
       "<table border=\"1\" class=\"dataframe\">\n",
       "  <thead>\n",
       "    <tr style=\"text-align: right;\">\n",
       "      <th></th>\n",
       "      <th>Date</th>\n",
       "      <th>Year</th>\n",
       "      <th>Type</th>\n",
       "      <th>Country</th>\n",
       "      <th>Area</th>\n",
       "      <th>Location</th>\n",
       "      <th>Activity</th>\n",
       "      <th>Name</th>\n",
       "      <th>Sex</th>\n",
       "      <th>Age</th>\n",
       "      <th>...</th>\n",
       "      <th>Species</th>\n",
       "      <th>Investigator or Source</th>\n",
       "      <th>pdf</th>\n",
       "      <th>href formula</th>\n",
       "      <th>href</th>\n",
       "      <th>Case Number.1</th>\n",
       "      <th>Case Number.2</th>\n",
       "      <th>original order</th>\n",
       "      <th>Unnamed: 22</th>\n",
       "      <th>Unnamed: 23</th>\n",
       "    </tr>\n",
       "    <tr>\n",
       "      <th>Case Number</th>\n",
       "      <th></th>\n",
       "      <th></th>\n",
       "      <th></th>\n",
       "      <th></th>\n",
       "      <th></th>\n",
       "      <th></th>\n",
       "      <th></th>\n",
       "      <th></th>\n",
       "      <th></th>\n",
       "      <th></th>\n",
       "      <th></th>\n",
       "      <th></th>\n",
       "      <th></th>\n",
       "      <th></th>\n",
       "      <th></th>\n",
       "      <th></th>\n",
       "      <th></th>\n",
       "      <th></th>\n",
       "      <th></th>\n",
       "      <th></th>\n",
       "      <th></th>\n",
       "    </tr>\n",
       "  </thead>\n",
       "  <tbody>\n",
       "    <tr>\n",
       "      <th>2018.06.25</th>\n",
       "      <td>25-Jun-2018</td>\n",
       "      <td>2018.0</td>\n",
       "      <td>Boating</td>\n",
       "      <td>USA</td>\n",
       "      <td>California</td>\n",
       "      <td>Oceanside, San Diego County</td>\n",
       "      <td>Paddling</td>\n",
       "      <td>Julie Wolfe</td>\n",
       "      <td>F</td>\n",
       "      <td>57</td>\n",
       "      <td>...</td>\n",
       "      <td>White shark</td>\n",
       "      <td>R. Collier, GSAF</td>\n",
       "      <td>2018.06.25-Wolfe.pdf</td>\n",
       "      <td>http://sharkattackfile.net/spreadsheets/pdf_di...</td>\n",
       "      <td>http://sharkattackfile.net/spreadsheets/pdf_di...</td>\n",
       "      <td>2018.06.25</td>\n",
       "      <td>2018.06.25</td>\n",
       "      <td>6303.0</td>\n",
       "      <td>NaN</td>\n",
       "      <td>NaN</td>\n",
       "    </tr>\n",
       "    <tr>\n",
       "      <th>2018.06.18</th>\n",
       "      <td>18-Jun-2018</td>\n",
       "      <td>2018.0</td>\n",
       "      <td>Unprovoked</td>\n",
       "      <td>USA</td>\n",
       "      <td>Georgia</td>\n",
       "      <td>St. Simon Island, Glynn County</td>\n",
       "      <td>Standing</td>\n",
       "      <td>Adyson McNeely</td>\n",
       "      <td>F</td>\n",
       "      <td>11</td>\n",
       "      <td>...</td>\n",
       "      <td>NaN</td>\n",
       "      <td>K.McMurray, TrackingSharks.com</td>\n",
       "      <td>2018.06.18-McNeely.pdf</td>\n",
       "      <td>http://sharkattackfile.net/spreadsheets/pdf_di...</td>\n",
       "      <td>http://sharkattackfile.net/spreadsheets/pdf_di...</td>\n",
       "      <td>2018.06.18</td>\n",
       "      <td>2018.06.18</td>\n",
       "      <td>6302.0</td>\n",
       "      <td>NaN</td>\n",
       "      <td>NaN</td>\n",
       "    </tr>\n",
       "    <tr>\n",
       "      <th>2018.06.09</th>\n",
       "      <td>09-Jun-2018</td>\n",
       "      <td>2018.0</td>\n",
       "      <td>Invalid</td>\n",
       "      <td>USA</td>\n",
       "      <td>Hawaii</td>\n",
       "      <td>Habush, Oahu</td>\n",
       "      <td>Surfing</td>\n",
       "      <td>John Denges</td>\n",
       "      <td>M</td>\n",
       "      <td>48</td>\n",
       "      <td>...</td>\n",
       "      <td>NaN</td>\n",
       "      <td>K.McMurray, TrackingSharks.com</td>\n",
       "      <td>2018.06.09-Denges.pdf</td>\n",
       "      <td>http://sharkattackfile.net/spreadsheets/pdf_di...</td>\n",
       "      <td>http://sharkattackfile.net/spreadsheets/pdf_di...</td>\n",
       "      <td>2018.06.09</td>\n",
       "      <td>2018.06.09</td>\n",
       "      <td>6301.0</td>\n",
       "      <td>NaN</td>\n",
       "      <td>NaN</td>\n",
       "    </tr>\n",
       "    <tr>\n",
       "      <th>2018.06.08</th>\n",
       "      <td>08-Jun-2018</td>\n",
       "      <td>2018.0</td>\n",
       "      <td>Unprovoked</td>\n",
       "      <td>AUSTRALIA</td>\n",
       "      <td>New South Wales</td>\n",
       "      <td>Arrawarra Headland</td>\n",
       "      <td>Surfing</td>\n",
       "      <td>male</td>\n",
       "      <td>M</td>\n",
       "      <td>NaN</td>\n",
       "      <td>...</td>\n",
       "      <td>2 m shark</td>\n",
       "      <td>B. Myatt, GSAF</td>\n",
       "      <td>2018.06.08-Arrawarra.pdf</td>\n",
       "      <td>http://sharkattackfile.net/spreadsheets/pdf_di...</td>\n",
       "      <td>http://sharkattackfile.net/spreadsheets/pdf_di...</td>\n",
       "      <td>2018.06.08</td>\n",
       "      <td>2018.06.08</td>\n",
       "      <td>6300.0</td>\n",
       "      <td>NaN</td>\n",
       "      <td>NaN</td>\n",
       "    </tr>\n",
       "    <tr>\n",
       "      <th>2018.06.04</th>\n",
       "      <td>04-Jun-2018</td>\n",
       "      <td>2018.0</td>\n",
       "      <td>Provoked</td>\n",
       "      <td>MEXICO</td>\n",
       "      <td>Colima</td>\n",
       "      <td>La Ticla</td>\n",
       "      <td>Free diving</td>\n",
       "      <td>Gustavo Ramos</td>\n",
       "      <td>M</td>\n",
       "      <td>NaN</td>\n",
       "      <td>...</td>\n",
       "      <td>Tiger shark, 3m</td>\n",
       "      <td>A .Kipper</td>\n",
       "      <td>2018.06.04-Ramos.pdf</td>\n",
       "      <td>http://sharkattackfile.net/spreadsheets/pdf_di...</td>\n",
       "      <td>http://sharkattackfile.net/spreadsheets/pdf_di...</td>\n",
       "      <td>2018.06.04</td>\n",
       "      <td>2018.06.04</td>\n",
       "      <td>6299.0</td>\n",
       "      <td>NaN</td>\n",
       "      <td>NaN</td>\n",
       "    </tr>\n",
       "  </tbody>\n",
       "</table>\n",
       "<p>5 rows × 23 columns</p>\n",
       "</div>"
      ],
      "text/plain": [
       "                    Date    Year        Type    Country             Area  \\\n",
       "Case Number                                                                \n",
       "2018.06.25   25-Jun-2018  2018.0     Boating        USA       California   \n",
       "2018.06.18   18-Jun-2018  2018.0  Unprovoked        USA          Georgia   \n",
       "2018.06.09   09-Jun-2018  2018.0     Invalid        USA           Hawaii   \n",
       "2018.06.08   08-Jun-2018  2018.0  Unprovoked  AUSTRALIA  New South Wales   \n",
       "2018.06.04   04-Jun-2018  2018.0    Provoked     MEXICO           Colima   \n",
       "\n",
       "                                   Location     Activity             Name  \\\n",
       "Case Number                                                                 \n",
       "2018.06.25      Oceanside, San Diego County     Paddling      Julie Wolfe   \n",
       "2018.06.18   St. Simon Island, Glynn County     Standing  Adyson McNeely    \n",
       "2018.06.09                     Habush, Oahu      Surfing      John Denges   \n",
       "2018.06.08               Arrawarra Headland      Surfing             male   \n",
       "2018.06.04                         La Ticla  Free diving   Gustavo Ramos    \n",
       "\n",
       "            Sex   Age  ...         Species           Investigator or Source  \\\n",
       "Case Number            ...                                                    \n",
       "2018.06.25     F   57  ...      White shark                R. Collier, GSAF   \n",
       "2018.06.18     F   11  ...              NaN  K.McMurray, TrackingSharks.com   \n",
       "2018.06.09     M   48  ...              NaN  K.McMurray, TrackingSharks.com   \n",
       "2018.06.08     M  NaN  ...        2 m shark                  B. Myatt, GSAF   \n",
       "2018.06.04     M  NaN  ...  Tiger shark, 3m                       A .Kipper   \n",
       "\n",
       "                                  pdf  \\\n",
       "Case Number                             \n",
       "2018.06.25       2018.06.25-Wolfe.pdf   \n",
       "2018.06.18     2018.06.18-McNeely.pdf   \n",
       "2018.06.09      2018.06.09-Denges.pdf   \n",
       "2018.06.08   2018.06.08-Arrawarra.pdf   \n",
       "2018.06.04       2018.06.04-Ramos.pdf   \n",
       "\n",
       "                                                  href formula  \\\n",
       "Case Number                                                      \n",
       "2018.06.25   http://sharkattackfile.net/spreadsheets/pdf_di...   \n",
       "2018.06.18   http://sharkattackfile.net/spreadsheets/pdf_di...   \n",
       "2018.06.09   http://sharkattackfile.net/spreadsheets/pdf_di...   \n",
       "2018.06.08   http://sharkattackfile.net/spreadsheets/pdf_di...   \n",
       "2018.06.04   http://sharkattackfile.net/spreadsheets/pdf_di...   \n",
       "\n",
       "                                                          href Case Number.1  \\\n",
       "Case Number                                                                    \n",
       "2018.06.25   http://sharkattackfile.net/spreadsheets/pdf_di...    2018.06.25   \n",
       "2018.06.18   http://sharkattackfile.net/spreadsheets/pdf_di...    2018.06.18   \n",
       "2018.06.09   http://sharkattackfile.net/spreadsheets/pdf_di...    2018.06.09   \n",
       "2018.06.08   http://sharkattackfile.net/spreadsheets/pdf_di...    2018.06.08   \n",
       "2018.06.04   http://sharkattackfile.net/spreadsheets/pdf_di...    2018.06.04   \n",
       "\n",
       "            Case Number.2 original order Unnamed: 22 Unnamed: 23  \n",
       "Case Number                                                       \n",
       "2018.06.25     2018.06.25         6303.0         NaN         NaN  \n",
       "2018.06.18     2018.06.18         6302.0         NaN         NaN  \n",
       "2018.06.09     2018.06.09         6301.0         NaN         NaN  \n",
       "2018.06.08     2018.06.08         6300.0         NaN         NaN  \n",
       "2018.06.04     2018.06.04         6299.0         NaN         NaN  \n",
       "\n",
       "[5 rows x 23 columns]"
      ]
     },
     "execution_count": 26,
     "metadata": {},
     "output_type": "execute_result"
    }
   ],
   "source": [
    "# With .head() method we make a first inspection to the \n",
    "# first elements and variables that form the dataset.\n",
    "attacks.head()"
   ]
  },
  {
   "cell_type": "code",
   "execution_count": 27,
   "metadata": {},
   "outputs": [
    {
     "name": "stdout",
     "output_type": "stream",
     "text": [
      "['Date', 'Year', 'Type', 'Country', 'Area', 'Location', 'Activity', 'Name', 'Sex ', 'Age', 'Injury', 'Fatal (Y/N)', 'Time', 'Species ', 'Investigator or Source', 'pdf', 'href formula', 'href', 'Case Number.1', 'Case Number.2', 'original order', 'Unnamed: 22', 'Unnamed: 23']\n"
     ]
    }
   ],
   "source": [
    "print(list(attacks.keys()))"
   ]
  },
  {
   "attachments": {},
   "cell_type": "markdown",
   "metadata": {},
   "source": [
    "We have 23 columns, which stand for the following variables:\n",
    "\n",
    "Date, Year, Type (Riskiness of the activity), Country, Area, Location, Activity, Name, Sex, Age, Injury, Fatal, Time, Species, Investigator or Source, pdf, href formula, href, Case Number.1, Case Number.2, original order, Unnamed: 22 and Unnamed: 23."
   ]
  },
  {
   "attachments": {},
   "cell_type": "markdown",
   "metadata": {},
   "source": [
    "The purpose of this report is to analyse the shark attacks and establish potential causal relationships with the variables present in the dataframe. However, some variables are more useful than others. \n",
    "For instance, geographical factors, activity, and age could be interesting to study. On the other hand, there are variables included in the csv file that are not of interest for our purpose. We will not consider all columns from \"Investigator or Source\" onwards."
   ]
  },
  {
   "cell_type": "code",
   "execution_count": null,
   "metadata": {},
   "outputs": [],
   "source": [
    "# Having said that, we will start with the data cleaning. (at clean.ipynb) ✅"
   ]
  },
  {
   "cell_type": "code",
   "execution_count": 15,
   "metadata": {},
   "outputs": [],
   "source": [
    "# We have been warned that this dataset is messy, full of missing values.\n",
    "# Let's check this out (at clean.ipynb)\n",
    "# "
   ]
  },
  {
   "cell_type": "code",
   "execution_count": 25,
   "metadata": {},
   "outputs": [],
   "source": [
    "def column_remover(dataframe, drop_columns_list):\n",
    "    return dataframe.drop([drop_columns_list], axis = 1, inplace = True)\n",
    "    "
   ]
  },
  {
   "cell_type": "code",
   "execution_count": 29,
   "metadata": {},
   "outputs": [
    {
     "ename": "NameError",
     "evalue": "name 'pdf' is not defined",
     "output_type": "error",
     "traceback": [
      "\u001b[0;31m---------------------------------------------------------------------------\u001b[0m",
      "\u001b[0;31mNameError\u001b[0m                                 Traceback (most recent call last)",
      "\u001b[1;32m/Users/gerardrius/Ironhack/projects/Gerard-project-I-pandas/draft_notebook.ipynb Cell 11\u001b[0m in \u001b[0;36m<cell line: 1>\u001b[0;34m()\u001b[0m\n\u001b[0;32m----> <a href='vscode-notebook-cell:/Users/gerardrius/Ironhack/projects/Gerard-project-I-pandas/draft_notebook.ipynb#X16sZmlsZQ%3D%3D?line=0'>1</a>\u001b[0m column_remover(attacks, [pdf, href])\n",
      "\u001b[0;31mNameError\u001b[0m: name 'pdf' is not defined"
     ]
    }
   ],
   "source": [
    "column_remover(attacks, [pdf, href])"
   ]
  },
  {
   "cell_type": "code",
   "execution_count": null,
   "metadata": {},
   "outputs": [],
   "source": []
  }
 ],
 "metadata": {
  "kernelspec": {
   "display_name": "ironhack",
   "language": "python",
   "name": "python3"
  },
  "language_info": {
   "codemirror_mode": {
    "name": "ipython",
    "version": 3
   },
   "file_extension": ".py",
   "mimetype": "text/x-python",
   "name": "python",
   "nbconvert_exporter": "python",
   "pygments_lexer": "ipython3",
   "version": "3.9.12 (main, Jun  1 2022, 06:36:29) \n[Clang 12.0.0 ]"
  },
  "orig_nbformat": 4,
  "vscode": {
   "interpreter": {
    "hash": "79e8e12960902be9b96136e06f35e6a59d5d8c359e0492f5e08d8a671bbdf383"
   }
  }
 },
 "nbformat": 4,
 "nbformat_minor": 2
}
