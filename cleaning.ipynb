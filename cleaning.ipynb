{
 "cells": [
  {
   "cell_type": "code",
   "execution_count": 1,
   "metadata": {},
   "outputs": [],
   "source": [
    "# We import the dataset, libraries and functions from the functions draft\n",
    "from functions import *"
   ]
  },
  {
   "attachments": {},
   "cell_type": "markdown",
   "metadata": {},
   "source": [
    "## Generic Cleaning "
   ]
  },
  {
   "attachments": {},
   "cell_type": "markdown",
   "metadata": {},
   "source": [
    "After having received the instructions from John, the first objective is to make a generic clean to our sharks attacks' database. "
   ]
  },
  {
   "attachments": {},
   "cell_type": "markdown",
   "metadata": {},
   "source": [
    "### Removing Unnecessary Variables"
   ]
  },
  {
   "attachments": {},
   "cell_type": "markdown",
   "metadata": {},
   "source": [
    "We will start for removing columns whose variables are not of utility, so we check all variables and create the list containing the ones that we will get rid of. After, we pass the list as argument in the remove_columns function."
   ]
  },
  {
   "cell_type": "code",
   "execution_count": 2,
   "metadata": {},
   "outputs": [
    {
     "name": "stdout",
     "output_type": "stream",
     "text": [
      "['Date', 'Year', 'Type', 'Country', 'Area', 'Location', 'Activity', 'Name', 'Sex ', 'Age', 'Injury', 'Fatal (Y/N)', 'Time', 'Species ', 'Investigator or Source', 'pdf', 'href formula', 'href', 'Case Number.1', 'Case Number.2', 'original order', 'Unnamed: 22', 'Unnamed: 23']\n"
     ]
    }
   ],
   "source": [
    "# list with all variables\n",
    "attacks_variables = variables_list(attacks)\n",
    "print(attacks_variables)"
   ]
  },
  {
   "cell_type": "code",
   "execution_count": 3,
   "metadata": {},
   "outputs": [
    {
     "name": "stdout",
     "output_type": "stream",
     "text": [
      "14\n"
     ]
    }
   ],
   "source": [
    "# get index of \"Investigator or Source\"; the variables starting from there are not useful.\n",
    "start_index = attacks_variables.index(\"Investigator or Source\")\n",
    "print(start_index)"
   ]
  },
  {
   "cell_type": "code",
   "execution_count": 4,
   "metadata": {},
   "outputs": [
    {
     "name": "stdout",
     "output_type": "stream",
     "text": [
      "['Investigator or Source', 'pdf', 'href formula', 'href', 'Case Number.1', 'Case Number.2', 'original order', 'Unnamed: 22', 'Unnamed: 23']\n"
     ]
    }
   ],
   "source": [
    "# We define the list with the variables that we will remove from attacks dataframe.\n",
    "variables_to_remove = attacks_variables[14:]\n",
    "print(variables_to_remove)"
   ]
  },
  {
   "cell_type": "code",
   "execution_count": 5,
   "metadata": {},
   "outputs": [
    {
     "data": {
      "text/html": [
       "<div>\n",
       "<style scoped>\n",
       "    .dataframe tbody tr th:only-of-type {\n",
       "        vertical-align: middle;\n",
       "    }\n",
       "\n",
       "    .dataframe tbody tr th {\n",
       "        vertical-align: top;\n",
       "    }\n",
       "\n",
       "    .dataframe thead th {\n",
       "        text-align: right;\n",
       "    }\n",
       "</style>\n",
       "<table border=\"1\" class=\"dataframe\">\n",
       "  <thead>\n",
       "    <tr style=\"text-align: right;\">\n",
       "      <th></th>\n",
       "      <th>Date</th>\n",
       "      <th>Year</th>\n",
       "      <th>Type</th>\n",
       "      <th>Country</th>\n",
       "      <th>Area</th>\n",
       "      <th>Location</th>\n",
       "      <th>Activity</th>\n",
       "      <th>Name</th>\n",
       "      <th>Sex</th>\n",
       "      <th>Age</th>\n",
       "      <th>Injury</th>\n",
       "      <th>Fatal (Y/N)</th>\n",
       "      <th>Time</th>\n",
       "      <th>Species</th>\n",
       "    </tr>\n",
       "    <tr>\n",
       "      <th>Case Number</th>\n",
       "      <th></th>\n",
       "      <th></th>\n",
       "      <th></th>\n",
       "      <th></th>\n",
       "      <th></th>\n",
       "      <th></th>\n",
       "      <th></th>\n",
       "      <th></th>\n",
       "      <th></th>\n",
       "      <th></th>\n",
       "      <th></th>\n",
       "      <th></th>\n",
       "      <th></th>\n",
       "      <th></th>\n",
       "    </tr>\n",
       "  </thead>\n",
       "  <tbody>\n",
       "    <tr>\n",
       "      <th>2018.06.25</th>\n",
       "      <td>25-Jun-2018</td>\n",
       "      <td>2018.0</td>\n",
       "      <td>Boating</td>\n",
       "      <td>USA</td>\n",
       "      <td>California</td>\n",
       "      <td>Oceanside, San Diego County</td>\n",
       "      <td>Paddling</td>\n",
       "      <td>Julie Wolfe</td>\n",
       "      <td>F</td>\n",
       "      <td>57</td>\n",
       "      <td>No injury to occupant, outrigger canoe and pad...</td>\n",
       "      <td>N</td>\n",
       "      <td>18h00</td>\n",
       "      <td>White shark</td>\n",
       "    </tr>\n",
       "    <tr>\n",
       "      <th>2018.06.18</th>\n",
       "      <td>18-Jun-2018</td>\n",
       "      <td>2018.0</td>\n",
       "      <td>Unprovoked</td>\n",
       "      <td>USA</td>\n",
       "      <td>Georgia</td>\n",
       "      <td>St. Simon Island, Glynn County</td>\n",
       "      <td>Standing</td>\n",
       "      <td>Adyson McNeely</td>\n",
       "      <td>F</td>\n",
       "      <td>11</td>\n",
       "      <td>Minor injury to left thigh</td>\n",
       "      <td>N</td>\n",
       "      <td>14h00  -15h00</td>\n",
       "      <td>NaN</td>\n",
       "    </tr>\n",
       "    <tr>\n",
       "      <th>2018.06.09</th>\n",
       "      <td>09-Jun-2018</td>\n",
       "      <td>2018.0</td>\n",
       "      <td>Invalid</td>\n",
       "      <td>USA</td>\n",
       "      <td>Hawaii</td>\n",
       "      <td>Habush, Oahu</td>\n",
       "      <td>Surfing</td>\n",
       "      <td>John Denges</td>\n",
       "      <td>M</td>\n",
       "      <td>48</td>\n",
       "      <td>Injury to left lower leg from surfboard skeg</td>\n",
       "      <td>N</td>\n",
       "      <td>07h45</td>\n",
       "      <td>NaN</td>\n",
       "    </tr>\n",
       "    <tr>\n",
       "      <th>2018.06.08</th>\n",
       "      <td>08-Jun-2018</td>\n",
       "      <td>2018.0</td>\n",
       "      <td>Unprovoked</td>\n",
       "      <td>AUSTRALIA</td>\n",
       "      <td>New South Wales</td>\n",
       "      <td>Arrawarra Headland</td>\n",
       "      <td>Surfing</td>\n",
       "      <td>male</td>\n",
       "      <td>M</td>\n",
       "      <td>NaN</td>\n",
       "      <td>Minor injury to lower leg</td>\n",
       "      <td>N</td>\n",
       "      <td>NaN</td>\n",
       "      <td>2 m shark</td>\n",
       "    </tr>\n",
       "    <tr>\n",
       "      <th>2018.06.04</th>\n",
       "      <td>04-Jun-2018</td>\n",
       "      <td>2018.0</td>\n",
       "      <td>Provoked</td>\n",
       "      <td>MEXICO</td>\n",
       "      <td>Colima</td>\n",
       "      <td>La Ticla</td>\n",
       "      <td>Free diving</td>\n",
       "      <td>Gustavo Ramos</td>\n",
       "      <td>M</td>\n",
       "      <td>NaN</td>\n",
       "      <td>Lacerations to leg &amp; hand shark PROVOKED INCIDENT</td>\n",
       "      <td>N</td>\n",
       "      <td>NaN</td>\n",
       "      <td>Tiger shark, 3m</td>\n",
       "    </tr>\n",
       "    <tr>\n",
       "      <th>...</th>\n",
       "      <td>...</td>\n",
       "      <td>...</td>\n",
       "      <td>...</td>\n",
       "      <td>...</td>\n",
       "      <td>...</td>\n",
       "      <td>...</td>\n",
       "      <td>...</td>\n",
       "      <td>...</td>\n",
       "      <td>...</td>\n",
       "      <td>...</td>\n",
       "      <td>...</td>\n",
       "      <td>...</td>\n",
       "      <td>...</td>\n",
       "      <td>...</td>\n",
       "    </tr>\n",
       "    <tr>\n",
       "      <th>NaN</th>\n",
       "      <td>NaN</td>\n",
       "      <td>NaN</td>\n",
       "      <td>NaN</td>\n",
       "      <td>NaN</td>\n",
       "      <td>NaN</td>\n",
       "      <td>NaN</td>\n",
       "      <td>NaN</td>\n",
       "      <td>NaN</td>\n",
       "      <td>NaN</td>\n",
       "      <td>NaN</td>\n",
       "      <td>NaN</td>\n",
       "      <td>NaN</td>\n",
       "      <td>NaN</td>\n",
       "      <td>NaN</td>\n",
       "    </tr>\n",
       "    <tr>\n",
       "      <th>NaN</th>\n",
       "      <td>NaN</td>\n",
       "      <td>NaN</td>\n",
       "      <td>NaN</td>\n",
       "      <td>NaN</td>\n",
       "      <td>NaN</td>\n",
       "      <td>NaN</td>\n",
       "      <td>NaN</td>\n",
       "      <td>NaN</td>\n",
       "      <td>NaN</td>\n",
       "      <td>NaN</td>\n",
       "      <td>NaN</td>\n",
       "      <td>NaN</td>\n",
       "      <td>NaN</td>\n",
       "      <td>NaN</td>\n",
       "    </tr>\n",
       "    <tr>\n",
       "      <th>NaN</th>\n",
       "      <td>NaN</td>\n",
       "      <td>NaN</td>\n",
       "      <td>NaN</td>\n",
       "      <td>NaN</td>\n",
       "      <td>NaN</td>\n",
       "      <td>NaN</td>\n",
       "      <td>NaN</td>\n",
       "      <td>NaN</td>\n",
       "      <td>NaN</td>\n",
       "      <td>NaN</td>\n",
       "      <td>NaN</td>\n",
       "      <td>NaN</td>\n",
       "      <td>NaN</td>\n",
       "      <td>NaN</td>\n",
       "    </tr>\n",
       "    <tr>\n",
       "      <th>NaN</th>\n",
       "      <td>NaN</td>\n",
       "      <td>NaN</td>\n",
       "      <td>NaN</td>\n",
       "      <td>NaN</td>\n",
       "      <td>NaN</td>\n",
       "      <td>NaN</td>\n",
       "      <td>NaN</td>\n",
       "      <td>NaN</td>\n",
       "      <td>NaN</td>\n",
       "      <td>NaN</td>\n",
       "      <td>NaN</td>\n",
       "      <td>NaN</td>\n",
       "      <td>NaN</td>\n",
       "      <td>NaN</td>\n",
       "    </tr>\n",
       "    <tr>\n",
       "      <th>xx</th>\n",
       "      <td>NaN</td>\n",
       "      <td>NaN</td>\n",
       "      <td>NaN</td>\n",
       "      <td>NaN</td>\n",
       "      <td>NaN</td>\n",
       "      <td>NaN</td>\n",
       "      <td>NaN</td>\n",
       "      <td>NaN</td>\n",
       "      <td>NaN</td>\n",
       "      <td>NaN</td>\n",
       "      <td>NaN</td>\n",
       "      <td>NaN</td>\n",
       "      <td>NaN</td>\n",
       "      <td>NaN</td>\n",
       "    </tr>\n",
       "  </tbody>\n",
       "</table>\n",
       "<p>25723 rows × 14 columns</p>\n",
       "</div>"
      ],
      "text/plain": [
       "                    Date    Year        Type    Country             Area  \\\n",
       "Case Number                                                                \n",
       "2018.06.25   25-Jun-2018  2018.0     Boating        USA       California   \n",
       "2018.06.18   18-Jun-2018  2018.0  Unprovoked        USA          Georgia   \n",
       "2018.06.09   09-Jun-2018  2018.0     Invalid        USA           Hawaii   \n",
       "2018.06.08   08-Jun-2018  2018.0  Unprovoked  AUSTRALIA  New South Wales   \n",
       "2018.06.04   04-Jun-2018  2018.0    Provoked     MEXICO           Colima   \n",
       "...                  ...     ...         ...        ...              ...   \n",
       "NaN                  NaN     NaN         NaN        NaN              NaN   \n",
       "NaN                  NaN     NaN         NaN        NaN              NaN   \n",
       "NaN                  NaN     NaN         NaN        NaN              NaN   \n",
       "NaN                  NaN     NaN         NaN        NaN              NaN   \n",
       "xx                   NaN     NaN         NaN        NaN              NaN   \n",
       "\n",
       "                                   Location     Activity             Name  \\\n",
       "Case Number                                                                 \n",
       "2018.06.25      Oceanside, San Diego County     Paddling      Julie Wolfe   \n",
       "2018.06.18   St. Simon Island, Glynn County     Standing  Adyson McNeely    \n",
       "2018.06.09                     Habush, Oahu      Surfing      John Denges   \n",
       "2018.06.08               Arrawarra Headland      Surfing             male   \n",
       "2018.06.04                         La Ticla  Free diving   Gustavo Ramos    \n",
       "...                                     ...          ...              ...   \n",
       "NaN                                     NaN          NaN              NaN   \n",
       "NaN                                     NaN          NaN              NaN   \n",
       "NaN                                     NaN          NaN              NaN   \n",
       "NaN                                     NaN          NaN              NaN   \n",
       "xx                                      NaN          NaN              NaN   \n",
       "\n",
       "            Sex   Age                                             Injury  \\\n",
       "Case Number                                                                \n",
       "2018.06.25     F   57  No injury to occupant, outrigger canoe and pad...   \n",
       "2018.06.18     F   11                         Minor injury to left thigh   \n",
       "2018.06.09     M   48       Injury to left lower leg from surfboard skeg   \n",
       "2018.06.08     M  NaN                          Minor injury to lower leg   \n",
       "2018.06.04     M  NaN  Lacerations to leg & hand shark PROVOKED INCIDENT   \n",
       "...          ...  ...                                                ...   \n",
       "NaN          NaN  NaN                                                NaN   \n",
       "NaN          NaN  NaN                                                NaN   \n",
       "NaN          NaN  NaN                                                NaN   \n",
       "NaN          NaN  NaN                                                NaN   \n",
       "xx           NaN  NaN                                                NaN   \n",
       "\n",
       "            Fatal (Y/N)           Time         Species   \n",
       "Case Number                                              \n",
       "2018.06.25            N          18h00      White shark  \n",
       "2018.06.18            N  14h00  -15h00              NaN  \n",
       "2018.06.09            N          07h45              NaN  \n",
       "2018.06.08            N            NaN        2 m shark  \n",
       "2018.06.04            N            NaN  Tiger shark, 3m  \n",
       "...                 ...            ...              ...  \n",
       "NaN                 NaN            NaN              NaN  \n",
       "NaN                 NaN            NaN              NaN  \n",
       "NaN                 NaN            NaN              NaN  \n",
       "NaN                 NaN            NaN              NaN  \n",
       "xx                  NaN            NaN              NaN  \n",
       "\n",
       "[25723 rows x 14 columns]"
      ]
     },
     "execution_count": 5,
     "metadata": {},
     "output_type": "execute_result"
    }
   ],
   "source": [
    "# We apply the column_remover function.\n",
    "column_remover(attacks, variables_to_remove) # put everything into a single function"
   ]
  },
  {
   "attachments": {},
   "cell_type": "markdown",
   "metadata": {},
   "source": [
    "### Remove Duplicates and NaN rows"
   ]
  },
  {
   "cell_type": "code",
   "execution_count": 6,
   "metadata": {},
   "outputs": [
    {
     "name": "stdout",
     "output_type": "stream",
     "text": [
      "Sharks' dataset contains 19422 duplicated rows out of 25723.\n"
     ]
    }
   ],
   "source": [
    "# Duplicated rows:\n",
    "duplicates(attacks)"
   ]
  },
  {
   "attachments": {},
   "cell_type": "markdown",
   "metadata": {},
   "source": [
    "There is a huge proportion of duplicated rows (mostly full of NaN's) in the dataset. In order to keep improving the reliability of the overall dataset and make our sample more representative, we will delete both duplicated and NaN rows, applying the drop_duplicates() method and dropna(), through the following functions."
   ]
  },
  {
   "attachments": {},
   "cell_type": "markdown",
   "metadata": {},
   "source": [
    "We have just removed the unwanted variables that did not provide useful information for our \n",
    "research. Now let's get rid of duplicated rows and rows that only contain missing values, since they do not provide any relevant information to the research. "
   ]
  },
  {
   "cell_type": "code",
   "execution_count": 7,
   "metadata": {},
   "outputs": [],
   "source": [
    "# Function defined to get rid of NaN's\n",
    "drop_all_nans (attacks)"
   ]
  },
  {
   "cell_type": "code",
   "execution_count": 8,
   "metadata": {},
   "outputs": [
    {
     "data": {
      "text/html": [
       "<div>\n",
       "<style scoped>\n",
       "    .dataframe tbody tr th:only-of-type {\n",
       "        vertical-align: middle;\n",
       "    }\n",
       "\n",
       "    .dataframe tbody tr th {\n",
       "        vertical-align: top;\n",
       "    }\n",
       "\n",
       "    .dataframe thead th {\n",
       "        text-align: right;\n",
       "    }\n",
       "</style>\n",
       "<table border=\"1\" class=\"dataframe\">\n",
       "  <thead>\n",
       "    <tr style=\"text-align: right;\">\n",
       "      <th></th>\n",
       "      <th>Date</th>\n",
       "      <th>Year</th>\n",
       "      <th>Type</th>\n",
       "      <th>Country</th>\n",
       "      <th>Area</th>\n",
       "      <th>Location</th>\n",
       "      <th>Activity</th>\n",
       "      <th>Name</th>\n",
       "      <th>Sex</th>\n",
       "      <th>Age</th>\n",
       "      <th>Injury</th>\n",
       "      <th>Fatal (Y/N)</th>\n",
       "      <th>Time</th>\n",
       "      <th>Species</th>\n",
       "    </tr>\n",
       "    <tr>\n",
       "      <th>Case Number</th>\n",
       "      <th></th>\n",
       "      <th></th>\n",
       "      <th></th>\n",
       "      <th></th>\n",
       "      <th></th>\n",
       "      <th></th>\n",
       "      <th></th>\n",
       "      <th></th>\n",
       "      <th></th>\n",
       "      <th></th>\n",
       "      <th></th>\n",
       "      <th></th>\n",
       "      <th></th>\n",
       "      <th></th>\n",
       "    </tr>\n",
       "  </thead>\n",
       "  <tbody>\n",
       "    <tr>\n",
       "      <th>2018.06.25</th>\n",
       "      <td>25-Jun-2018</td>\n",
       "      <td>2018.0</td>\n",
       "      <td>Boating</td>\n",
       "      <td>USA</td>\n",
       "      <td>California</td>\n",
       "      <td>Oceanside, San Diego County</td>\n",
       "      <td>Paddling</td>\n",
       "      <td>Julie Wolfe</td>\n",
       "      <td>F</td>\n",
       "      <td>57</td>\n",
       "      <td>No injury to occupant, outrigger canoe and pad...</td>\n",
       "      <td>N</td>\n",
       "      <td>18h00</td>\n",
       "      <td>White shark</td>\n",
       "    </tr>\n",
       "    <tr>\n",
       "      <th>2018.06.18</th>\n",
       "      <td>18-Jun-2018</td>\n",
       "      <td>2018.0</td>\n",
       "      <td>Unprovoked</td>\n",
       "      <td>USA</td>\n",
       "      <td>Georgia</td>\n",
       "      <td>St. Simon Island, Glynn County</td>\n",
       "      <td>Standing</td>\n",
       "      <td>Adyson McNeely</td>\n",
       "      <td>F</td>\n",
       "      <td>11</td>\n",
       "      <td>Minor injury to left thigh</td>\n",
       "      <td>N</td>\n",
       "      <td>14h00  -15h00</td>\n",
       "      <td>NaN</td>\n",
       "    </tr>\n",
       "    <tr>\n",
       "      <th>2018.06.09</th>\n",
       "      <td>09-Jun-2018</td>\n",
       "      <td>2018.0</td>\n",
       "      <td>Invalid</td>\n",
       "      <td>USA</td>\n",
       "      <td>Hawaii</td>\n",
       "      <td>Habush, Oahu</td>\n",
       "      <td>Surfing</td>\n",
       "      <td>John Denges</td>\n",
       "      <td>M</td>\n",
       "      <td>48</td>\n",
       "      <td>Injury to left lower leg from surfboard skeg</td>\n",
       "      <td>N</td>\n",
       "      <td>07h45</td>\n",
       "      <td>NaN</td>\n",
       "    </tr>\n",
       "    <tr>\n",
       "      <th>2018.06.08</th>\n",
       "      <td>08-Jun-2018</td>\n",
       "      <td>2018.0</td>\n",
       "      <td>Unprovoked</td>\n",
       "      <td>AUSTRALIA</td>\n",
       "      <td>New South Wales</td>\n",
       "      <td>Arrawarra Headland</td>\n",
       "      <td>Surfing</td>\n",
       "      <td>male</td>\n",
       "      <td>M</td>\n",
       "      <td>NaN</td>\n",
       "      <td>Minor injury to lower leg</td>\n",
       "      <td>N</td>\n",
       "      <td>NaN</td>\n",
       "      <td>2 m shark</td>\n",
       "    </tr>\n",
       "    <tr>\n",
       "      <th>2018.06.04</th>\n",
       "      <td>04-Jun-2018</td>\n",
       "      <td>2018.0</td>\n",
       "      <td>Provoked</td>\n",
       "      <td>MEXICO</td>\n",
       "      <td>Colima</td>\n",
       "      <td>La Ticla</td>\n",
       "      <td>Free diving</td>\n",
       "      <td>Gustavo Ramos</td>\n",
       "      <td>M</td>\n",
       "      <td>NaN</td>\n",
       "      <td>Lacerations to leg &amp; hand shark PROVOKED INCIDENT</td>\n",
       "      <td>N</td>\n",
       "      <td>NaN</td>\n",
       "      <td>Tiger shark, 3m</td>\n",
       "    </tr>\n",
       "    <tr>\n",
       "      <th>...</th>\n",
       "      <td>...</td>\n",
       "      <td>...</td>\n",
       "      <td>...</td>\n",
       "      <td>...</td>\n",
       "      <td>...</td>\n",
       "      <td>...</td>\n",
       "      <td>...</td>\n",
       "      <td>...</td>\n",
       "      <td>...</td>\n",
       "      <td>...</td>\n",
       "      <td>...</td>\n",
       "      <td>...</td>\n",
       "      <td>...</td>\n",
       "      <td>...</td>\n",
       "    </tr>\n",
       "    <tr>\n",
       "      <th>ND.0005</th>\n",
       "      <td>Before 1903</td>\n",
       "      <td>0.0</td>\n",
       "      <td>Unprovoked</td>\n",
       "      <td>AUSTRALIA</td>\n",
       "      <td>Western Australia</td>\n",
       "      <td>Roebuck Bay</td>\n",
       "      <td>Diving</td>\n",
       "      <td>male</td>\n",
       "      <td>M</td>\n",
       "      <td>NaN</td>\n",
       "      <td>FATAL</td>\n",
       "      <td>Y</td>\n",
       "      <td>NaN</td>\n",
       "      <td>NaN</td>\n",
       "    </tr>\n",
       "    <tr>\n",
       "      <th>ND.0004</th>\n",
       "      <td>Before 1903</td>\n",
       "      <td>0.0</td>\n",
       "      <td>Unprovoked</td>\n",
       "      <td>AUSTRALIA</td>\n",
       "      <td>Western Australia</td>\n",
       "      <td>NaN</td>\n",
       "      <td>Pearl diving</td>\n",
       "      <td>Ahmun</td>\n",
       "      <td>M</td>\n",
       "      <td>NaN</td>\n",
       "      <td>FATAL</td>\n",
       "      <td>Y</td>\n",
       "      <td>NaN</td>\n",
       "      <td>NaN</td>\n",
       "    </tr>\n",
       "    <tr>\n",
       "      <th>ND.0003</th>\n",
       "      <td>1900-1905</td>\n",
       "      <td>0.0</td>\n",
       "      <td>Unprovoked</td>\n",
       "      <td>USA</td>\n",
       "      <td>North Carolina</td>\n",
       "      <td>Ocracoke Inlet</td>\n",
       "      <td>Swimming</td>\n",
       "      <td>Coast Guard personnel</td>\n",
       "      <td>M</td>\n",
       "      <td>NaN</td>\n",
       "      <td>FATAL</td>\n",
       "      <td>Y</td>\n",
       "      <td>NaN</td>\n",
       "      <td>NaN</td>\n",
       "    </tr>\n",
       "    <tr>\n",
       "      <th>ND.0002</th>\n",
       "      <td>1883-1889</td>\n",
       "      <td>0.0</td>\n",
       "      <td>Unprovoked</td>\n",
       "      <td>PANAMA</td>\n",
       "      <td>NaN</td>\n",
       "      <td>Panama Bay 8ºN, 79ºW</td>\n",
       "      <td>NaN</td>\n",
       "      <td>Jules Patterson</td>\n",
       "      <td>M</td>\n",
       "      <td>NaN</td>\n",
       "      <td>FATAL</td>\n",
       "      <td>Y</td>\n",
       "      <td>NaN</td>\n",
       "      <td>NaN</td>\n",
       "    </tr>\n",
       "    <tr>\n",
       "      <th>ND.0001</th>\n",
       "      <td>1845-1853</td>\n",
       "      <td>0.0</td>\n",
       "      <td>Unprovoked</td>\n",
       "      <td>CEYLON (SRI LANKA)</td>\n",
       "      <td>Eastern Province</td>\n",
       "      <td>Below the English fort, Trincomalee</td>\n",
       "      <td>Swimming</td>\n",
       "      <td>male</td>\n",
       "      <td>M</td>\n",
       "      <td>15</td>\n",
       "      <td>FATAL. \"Shark bit him in half, carrying away t...</td>\n",
       "      <td>Y</td>\n",
       "      <td>NaN</td>\n",
       "      <td>NaN</td>\n",
       "    </tr>\n",
       "  </tbody>\n",
       "</table>\n",
       "<p>6300 rows × 14 columns</p>\n",
       "</div>"
      ],
      "text/plain": [
       "                    Date    Year        Type             Country  \\\n",
       "Case Number                                                        \n",
       "2018.06.25   25-Jun-2018  2018.0     Boating                 USA   \n",
       "2018.06.18   18-Jun-2018  2018.0  Unprovoked                 USA   \n",
       "2018.06.09   09-Jun-2018  2018.0     Invalid                 USA   \n",
       "2018.06.08   08-Jun-2018  2018.0  Unprovoked           AUSTRALIA   \n",
       "2018.06.04   04-Jun-2018  2018.0    Provoked              MEXICO   \n",
       "...                  ...     ...         ...                 ...   \n",
       "ND.0005      Before 1903     0.0  Unprovoked           AUSTRALIA   \n",
       "ND.0004      Before 1903     0.0  Unprovoked           AUSTRALIA   \n",
       "ND.0003        1900-1905     0.0  Unprovoked                 USA   \n",
       "ND.0002        1883-1889     0.0  Unprovoked              PANAMA   \n",
       "ND.0001        1845-1853     0.0  Unprovoked  CEYLON (SRI LANKA)   \n",
       "\n",
       "                          Area                             Location  \\\n",
       "Case Number                                                           \n",
       "2018.06.25          California          Oceanside, San Diego County   \n",
       "2018.06.18             Georgia       St. Simon Island, Glynn County   \n",
       "2018.06.09              Hawaii                         Habush, Oahu   \n",
       "2018.06.08     New South Wales                   Arrawarra Headland   \n",
       "2018.06.04              Colima                             La Ticla   \n",
       "...                        ...                                  ...   \n",
       "ND.0005      Western Australia                          Roebuck Bay   \n",
       "ND.0004      Western Australia                                  NaN   \n",
       "ND.0003         North Carolina                       Ocracoke Inlet   \n",
       "ND.0002                    NaN                 Panama Bay 8ºN, 79ºW   \n",
       "ND.0001       Eastern Province  Below the English fort, Trincomalee   \n",
       "\n",
       "                 Activity                   Name Sex   Age  \\\n",
       "Case Number                                                  \n",
       "2018.06.25       Paddling            Julie Wolfe    F   57   \n",
       "2018.06.18       Standing        Adyson McNeely     F   11   \n",
       "2018.06.09        Surfing            John Denges    M   48   \n",
       "2018.06.08        Surfing                   male    M  NaN   \n",
       "2018.06.04    Free diving         Gustavo Ramos     M  NaN   \n",
       "...                   ...                    ...  ...  ...   \n",
       "ND.0005            Diving                   male    M  NaN   \n",
       "ND.0004      Pearl diving                  Ahmun    M  NaN   \n",
       "ND.0003          Swimming  Coast Guard personnel    M  NaN   \n",
       "ND.0002               NaN        Jules Patterson    M  NaN   \n",
       "ND.0001          Swimming                   male    M   15   \n",
       "\n",
       "                                                        Injury Fatal (Y/N)  \\\n",
       "Case Number                                                                  \n",
       "2018.06.25   No injury to occupant, outrigger canoe and pad...           N   \n",
       "2018.06.18                          Minor injury to left thigh           N   \n",
       "2018.06.09        Injury to left lower leg from surfboard skeg           N   \n",
       "2018.06.08                           Minor injury to lower leg           N   \n",
       "2018.06.04   Lacerations to leg & hand shark PROVOKED INCIDENT           N   \n",
       "...                                                        ...         ...   \n",
       "ND.0005                                                  FATAL           Y   \n",
       "ND.0004                                                  FATAL           Y   \n",
       "ND.0003                                                  FATAL           Y   \n",
       "ND.0002                                                  FATAL           Y   \n",
       "ND.0001      FATAL. \"Shark bit him in half, carrying away t...           Y   \n",
       "\n",
       "                      Time         Species   \n",
       "Case Number                                  \n",
       "2018.06.25           18h00      White shark  \n",
       "2018.06.18   14h00  -15h00              NaN  \n",
       "2018.06.09           07h45              NaN  \n",
       "2018.06.08             NaN        2 m shark  \n",
       "2018.06.04             NaN  Tiger shark, 3m  \n",
       "...                    ...              ...  \n",
       "ND.0005                NaN              NaN  \n",
       "ND.0004                NaN              NaN  \n",
       "ND.0003                NaN              NaN  \n",
       "ND.0002                NaN              NaN  \n",
       "ND.0001                NaN              NaN  \n",
       "\n",
       "[6300 rows x 14 columns]"
      ]
     },
     "execution_count": 8,
     "metadata": {},
     "output_type": "execute_result"
    }
   ],
   "source": [
    "# Function to drop duplicates\n",
    "drop_dupl(attacks)"
   ]
  },
  {
   "attachments": {},
   "cell_type": "markdown",
   "metadata": {},
   "source": [
    "We have significantly changed the shape of our dataset, from roughly 25000x23 to 6300x14, and, most importantly, without losing any relevant information.\n",
    "\n",
    "For now, let's see how much NaN's remain in the dataset and what is their distribution among the variables. Those with less missing values will be more representative and reliable for the study."
   ]
  },
  {
   "cell_type": "code",
   "execution_count": 9,
   "metadata": {},
   "outputs": [
    {
     "data": {
      "text/plain": [
       "Date              0\n",
       "Year              2\n",
       "Type              4\n",
       "Country          50\n",
       "Area            455\n",
       "Location        540\n",
       "Activity        544\n",
       "Name            210\n",
       "Sex             565\n",
       "Age            2829\n",
       "Injury           28\n",
       "Fatal (Y/N)     539\n",
       "Time           3352\n",
       "Species        2837\n",
       "dtype: int64"
      ]
     },
     "execution_count": 9,
     "metadata": {},
     "output_type": "execute_result"
    }
   ],
   "source": [
    "# With this code we get a series with the distribution of missing values for each variable\n",
    "attacks.isna().sum()"
   ]
  },
  {
   "cell_type": "code",
   "execution_count": 10,
   "metadata": {},
   "outputs": [
    {
     "data": {
      "text/plain": [
       "Text(0, 0.5, 'Missing Values Count')"
      ]
     },
     "execution_count": 10,
     "metadata": {},
     "output_type": "execute_result"
    },
    {
     "data": {
      "image/png": "[encoded data removed]",
      "text/plain": [
       "<Figure size 432x288 with 1 Axes>"
      ]
     },
     "metadata": {
      "needs_background": "light"
     },
     "output_type": "display_data"
    }
   ],
   "source": [
    "# To make it more visual, we plot it into a graph\n",
    "attacks.isna().sum().plot(kind='bar')\n",
    "plt.xlabel(\"Variables\")\n",
    "plt.ylabel(\"Missing Values Count\")"
   ]
  },
  {
   "attachments": {},
   "cell_type": "markdown",
   "metadata": {},
   "source": [
    "From this barplot we observe that variables such as Country, Area and Location are almost complete, which is good news for our interests: the geographical perspective is very important to John. Also, Activity and Fatality are important aspects: we can evaluate the specific risk of surfing.\n",
    "\n",
    "However, we also observe that time is the variable with more missing values. We'll see if we can get conclusions on that topic and evaluate how danger might change throughout the day.\n",
    "\n",
    "To keep improving our knowledge on the file, we can check for the data types in each variable. It would be ideal to have the same datatype but it is possible that we find different expressions for a similar information. For example, age can be expressed through an integer (e.g. 45) or a string (\"forty-five\")."
   ]
  },
  {
   "cell_type": "code",
   "execution_count": 11,
   "metadata": {},
   "outputs": [
    {
     "name": "stdout",
     "output_type": "stream",
     "text": [
      "Date only has one data type: {'str'}.\n",
      "Year only has one data type: {'float64'}.\n",
      "Type has 2 data types: {'float', 'str'}.\n",
      "Country has 2 data types: {'float', 'str'}.\n",
      "Area has 2 data types: {'float', 'str'}.\n",
      "Location has 2 data types: {'float', 'str'}.\n",
      "Activity has 2 data types: {'float', 'str'}.\n",
      "Name has 2 data types: {'float', 'str'}.\n",
      "Sex  has 2 data types: {'float', 'str'}.\n",
      "Age has 2 data types: {'float', 'str'}.\n",
      "Injury has 2 data types: {'float', 'str'}.\n",
      "Fatal (Y/N) has 2 data types: {'float', 'str'}.\n",
      "Time has 2 data types: {'float', 'str'}.\n",
      "Species  has 2 data types: {'float', 'str'}.\n"
     ]
    },
    {
     "data": {
      "text/plain": [
       "{'Date': {'str'},\n",
       " 'Year': {'float64'},\n",
       " 'Type': {'float', 'str'},\n",
       " 'Country': {'float', 'str'},\n",
       " 'Area': {'float', 'str'},\n",
       " 'Location': {'float', 'str'},\n",
       " 'Activity': {'float', 'str'},\n",
       " 'Name': {'float', 'str'},\n",
       " 'Sex ': {'float', 'str'},\n",
       " 'Age': {'float', 'str'},\n",
       " 'Injury': {'float', 'str'},\n",
       " 'Fatal (Y/N)': {'float', 'str'},\n",
       " 'Time': {'float', 'str'},\n",
       " 'Species ': {'float', 'str'}}"
      ]
     },
     "execution_count": 11,
     "metadata": {},
     "output_type": "execute_result"
    }
   ],
   "source": [
    "# We created a dictionary with variables as keys and a set containing datatypes as values.\n",
    "df_datatypes(attacks)"
   ]
  },
  {
   "attachments": {},
   "cell_type": "markdown",
   "metadata": {},
   "source": [
    "Most variables have instances with both strings and floats. We might take this into consideration when we take a deeper look in each variable in the specific cleaning.\n",
    "So far, we have improved the organization of our dataset and made it more efficient. Now it is time to reshape it according to the specifications of the client, let's begin the specific cleaning."
   ]
  },
  {
   "attachments": {},
   "cell_type": "markdown",
   "metadata": {},
   "source": [
    "## Specific Cleaning"
   ]
  },
  {
   "attachments": {},
   "cell_type": "markdown",
   "metadata": {},
   "source": [
    "The objective of the dataset is to provide John with a good surfing spot that fulfills his conditions. We keep the cleaning process of the dataset in order adapt it to meet the requirements."
   ]
  },
  {
   "attachments": {},
   "cell_type": "markdown",
   "metadata": {},
   "source": [
    "### Country Column"
   ]
  },
  {
   "attachments": {},
   "cell_type": "markdown",
   "metadata": {},
   "source": [
    "The first step in this stage is to examine the Country column. We filter our dataset and work only with instances that occured in the United States (United States are mostly expressed as \"USA\" in the dataset)."
   ]
  },
  {
   "cell_type": "code",
   "execution_count": 12,
   "metadata": {},
   "outputs": [
    {
     "name": "stdout",
     "output_type": "stream",
     "text": [
      "The dataset has at least 2228 attacks registered in the USA\n"
     ]
    }
   ],
   "source": [
    "\n",
    "country_attacks = attacks[\"Country\"].value_counts()\n",
    "print(f\"The dataset has at least {country_attacks['USA']} attacks registered in the USA\")"
   ]
  },
  {
   "attachments": {},
   "cell_type": "markdown",
   "metadata": {},
   "source": [
    "However, we want to make sure that we don't miss any attack within US territory before creating a subset. We check for similar expressions to USA with regex."
   ]
  },
  {
   "cell_type": "code",
   "execution_count": 13,
   "metadata": {},
   "outputs": [
    {
     "data": {
      "text/plain": [
       "False    4022\n",
       "True     2228\n",
       "Name: Country, dtype: int64"
      ]
     },
     "execution_count": 13,
     "metadata": {},
     "output_type": "execute_result"
    }
   ],
   "source": [
    "attacks[\"Country\"].str.contains((\"united\\sstates|usa|north\\samerica\"), case=False, flags=0, regex=True).value_counts()"
   ]
  },
  {
   "attachments": {},
   "cell_type": "markdown",
   "metadata": {},
   "source": [
    "We do not find other expressions that might refer to USA, so we are all set to shrink our database to the 2228 rows corresponding to shark attacks at the USA."
   ]
  },
  {
   "cell_type": "code",
   "execution_count": 14,
   "metadata": {},
   "outputs": [
    {
     "data": {
      "text/html": [
       "<div>\n",
       "<style scoped>\n",
       "    .dataframe tbody tr th:only-of-type {\n",
       "        vertical-align: middle;\n",
       "    }\n",
       "\n",
       "    .dataframe tbody tr th {\n",
       "        vertical-align: top;\n",
       "    }\n",
       "\n",
       "    .dataframe thead th {\n",
       "        text-align: right;\n",
       "    }\n",
       "</style>\n",
       "<table border=\"1\" class=\"dataframe\">\n",
       "  <thead>\n",
       "    <tr style=\"text-align: right;\">\n",
       "      <th></th>\n",
       "      <th>Date</th>\n",
       "      <th>Year</th>\n",
       "      <th>Type</th>\n",
       "      <th>Country</th>\n",
       "      <th>Area</th>\n",
       "      <th>Location</th>\n",
       "      <th>Activity</th>\n",
       "      <th>Name</th>\n",
       "      <th>Sex</th>\n",
       "      <th>Age</th>\n",
       "      <th>Injury</th>\n",
       "      <th>Fatal (Y/N)</th>\n",
       "      <th>Time</th>\n",
       "      <th>Species</th>\n",
       "    </tr>\n",
       "    <tr>\n",
       "      <th>Case Number</th>\n",
       "      <th></th>\n",
       "      <th></th>\n",
       "      <th></th>\n",
       "      <th></th>\n",
       "      <th></th>\n",
       "      <th></th>\n",
       "      <th></th>\n",
       "      <th></th>\n",
       "      <th></th>\n",
       "      <th></th>\n",
       "      <th></th>\n",
       "      <th></th>\n",
       "      <th></th>\n",
       "      <th></th>\n",
       "    </tr>\n",
       "  </thead>\n",
       "  <tbody>\n",
       "    <tr>\n",
       "      <th>2018.06.25</th>\n",
       "      <td>25-Jun-2018</td>\n",
       "      <td>2018.0</td>\n",
       "      <td>Boating</td>\n",
       "      <td>USA</td>\n",
       "      <td>California</td>\n",
       "      <td>Oceanside, San Diego County</td>\n",
       "      <td>Paddling</td>\n",
       "      <td>Julie Wolfe</td>\n",
       "      <td>F</td>\n",
       "      <td>57</td>\n",
       "      <td>No injury to occupant, outrigger canoe and pad...</td>\n",
       "      <td>N</td>\n",
       "      <td>18h00</td>\n",
       "      <td>White shark</td>\n",
       "    </tr>\n",
       "    <tr>\n",
       "      <th>2018.06.18</th>\n",
       "      <td>18-Jun-2018</td>\n",
       "      <td>2018.0</td>\n",
       "      <td>Unprovoked</td>\n",
       "      <td>USA</td>\n",
       "      <td>Georgia</td>\n",
       "      <td>St. Simon Island, Glynn County</td>\n",
       "      <td>Standing</td>\n",
       "      <td>Adyson McNeely</td>\n",
       "      <td>F</td>\n",
       "      <td>11</td>\n",
       "      <td>Minor injury to left thigh</td>\n",
       "      <td>N</td>\n",
       "      <td>14h00  -15h00</td>\n",
       "      <td>NaN</td>\n",
       "    </tr>\n",
       "    <tr>\n",
       "      <th>2018.06.09</th>\n",
       "      <td>09-Jun-2018</td>\n",
       "      <td>2018.0</td>\n",
       "      <td>Invalid</td>\n",
       "      <td>USA</td>\n",
       "      <td>Hawaii</td>\n",
       "      <td>Habush, Oahu</td>\n",
       "      <td>Surfing</td>\n",
       "      <td>John Denges</td>\n",
       "      <td>M</td>\n",
       "      <td>48</td>\n",
       "      <td>Injury to left lower leg from surfboard skeg</td>\n",
       "      <td>N</td>\n",
       "      <td>07h45</td>\n",
       "      <td>NaN</td>\n",
       "    </tr>\n",
       "    <tr>\n",
       "      <th>2018.05.27</th>\n",
       "      <td>27-May-2018</td>\n",
       "      <td>2018.0</td>\n",
       "      <td>Unprovoked</td>\n",
       "      <td>USA</td>\n",
       "      <td>Florida</td>\n",
       "      <td>Lighhouse Point Park, Ponce Inlet, Volusia County</td>\n",
       "      <td>Fishing</td>\n",
       "      <td>male</td>\n",
       "      <td>M</td>\n",
       "      <td>52</td>\n",
       "      <td>Minor injury to foot. PROVOKED INCIDENT</td>\n",
       "      <td>N</td>\n",
       "      <td>NaN</td>\n",
       "      <td>Lemon shark, 3'</td>\n",
       "    </tr>\n",
       "    <tr>\n",
       "      <th>2018.05.26.b</th>\n",
       "      <td>26-May-2018</td>\n",
       "      <td>2018.0</td>\n",
       "      <td>Unprovoked</td>\n",
       "      <td>USA</td>\n",
       "      <td>Florida</td>\n",
       "      <td>Cocoa Beach, Brevard  County</td>\n",
       "      <td>Walking</td>\n",
       "      <td>Cody High</td>\n",
       "      <td>M</td>\n",
       "      <td>15</td>\n",
       "      <td>Lower left leg bitten</td>\n",
       "      <td>N</td>\n",
       "      <td>17h00</td>\n",
       "      <td>Bull shark, 6'</td>\n",
       "    </tr>\n",
       "  </tbody>\n",
       "</table>\n",
       "</div>"
      ],
      "text/plain": [
       "                     Date    Year        Type Country        Area  \\\n",
       "Case Number                                                         \n",
       "2018.06.25    25-Jun-2018  2018.0     Boating     USA  California   \n",
       "2018.06.18    18-Jun-2018  2018.0  Unprovoked     USA     Georgia   \n",
       "2018.06.09    09-Jun-2018  2018.0     Invalid     USA      Hawaii   \n",
       "2018.05.27    27-May-2018  2018.0  Unprovoked     USA     Florida   \n",
       "2018.05.26.b  26-May-2018  2018.0  Unprovoked     USA     Florida   \n",
       "\n",
       "                                                       Location  Activity  \\\n",
       "Case Number                                                                 \n",
       "2018.06.25                          Oceanside, San Diego County  Paddling   \n",
       "2018.06.18                       St. Simon Island, Glynn County  Standing   \n",
       "2018.06.09                                         Habush, Oahu   Surfing   \n",
       "2018.05.27    Lighhouse Point Park, Ponce Inlet, Volusia County   Fishing   \n",
       "2018.05.26.b                       Cocoa Beach, Brevard  County   Walking   \n",
       "\n",
       "                         Name Sex  Age  \\\n",
       "Case Number                              \n",
       "2018.06.25        Julie Wolfe    F  57   \n",
       "2018.06.18    Adyson McNeely     F  11   \n",
       "2018.06.09        John Denges    M  48   \n",
       "2018.05.27               male    M  52   \n",
       "2018.05.26.b        Cody High    M  15   \n",
       "\n",
       "                                                         Injury Fatal (Y/N)  \\\n",
       "Case Number                                                                   \n",
       "2018.06.25    No injury to occupant, outrigger canoe and pad...           N   \n",
       "2018.06.18                           Minor injury to left thigh           N   \n",
       "2018.06.09         Injury to left lower leg from surfboard skeg           N   \n",
       "2018.05.27              Minor injury to foot. PROVOKED INCIDENT           N   \n",
       "2018.05.26.b                              Lower left leg bitten           N   \n",
       "\n",
       "                       Time         Species   \n",
       "Case Number                                   \n",
       "2018.06.25            18h00      White shark  \n",
       "2018.06.18    14h00  -15h00              NaN  \n",
       "2018.06.09            07h45              NaN  \n",
       "2018.05.27              NaN  Lemon shark, 3'  \n",
       "2018.05.26.b          17h00   Bull shark, 6'  "
      ]
     },
     "execution_count": 14,
     "metadata": {},
     "output_type": "execute_result"
    }
   ],
   "source": [
    "attacks = attacks[(attacks['Country'] == \"USA\")]\n",
    "attacks.head()"
   ]
  },
  {
   "attachments": {},
   "cell_type": "markdown",
   "metadata": {},
   "source": [
    "### Area Column"
   ]
  },
  {
   "attachments": {},
   "cell_type": "markdown",
   "metadata": {},
   "source": [
    "In a similar process to the one undertaken with the Country variable, now we must filter again for the area. We only want to study 3 U.S. States: Florida, Hawaii and California."
   ]
  },
  {
   "cell_type": "code",
   "execution_count": 15,
   "metadata": {},
   "outputs": [],
   "source": [
    "florida_condition = (attacks['Area'] == \"Florida\")\n",
    "california_condition = (attacks['Area'] == \"California\")\n",
    "hawaii_condition = (attacks['Area'] == \"Hawaii\")\n",
    "\n",
    "attacks = attacks[(florida_condition) | (california_condition) | (hawaii_condition)]"
   ]
  },
  {
   "attachments": {},
   "cell_type": "markdown",
   "metadata": {},
   "source": [
    "### Activity Column"
   ]
  },
  {
   "attachments": {},
   "cell_type": "markdown",
   "metadata": {},
   "source": [
    "Our scope of research lies on assessing risk for our surfer John. Hence, we will focus on the \"Activity\" column to filter only by surfing. In this case, by observing the data of the column, we see that there is a wide range of descriptions for activities. The principal ones are surfing, swimming and wading, but we also have other denominations such as \"body boarding\", \"sitting on surfboard\", windsurfing, \"Surfing (sitting on his board)\", etc. Although most descriptions are englobed in surfing, we will use a regular expression for the filter to keep all activities characterized for the use of a board.\n",
    " "
   ]
  },
  {
   "cell_type": "code",
   "execution_count": 16,
   "metadata": {},
   "outputs": [
    {
     "data": {
      "text/plain": [
       "Text(0, 0.5, 'Attacks')"
      ]
     },
     "execution_count": 16,
     "metadata": {},
     "output_type": "execute_result"
    },
    {
     "data": {
      "image/png": "[encoded data removed]",
      "text/plain": [
       "<Figure size 432x288 with 1 Axes>"
      ]
     },
     "metadata": {
      "needs_background": "light"
     },
     "output_type": "display_data"
    }
   ],
   "source": [
    "activities_attacks = attacks[\"Activity\"].value_counts()\n",
    "activities_attacks[:10].plot(kind=\"bar\")\n",
    "plt.xlabel(\"Activities\")\n",
    "plt.ylabel(\"Attacks\")"
   ]
  },
  {
   "cell_type": "code",
   "execution_count": 17,
   "metadata": {},
   "outputs": [
    {
     "name": "stderr",
     "output_type": "stream",
     "text": [
      "/var/folders/lr/stnkft6j5ps6pysrw7v0cgp80000gn/T/ipykernel_8577/592587824.py:3: UserWarning: This pattern is interpreted as a regular expression, and has match groups. To actually get the groups, use str.extract.\n",
      "  mask = attacks[\"Activity\"].str.contains(pattern, na=False, regex=True)\n"
     ]
    }
   ],
   "source": [
    "# Make it applying function\n",
    "pattern = \"(?i)(surf|board)\"\n",
    "mask = attacks[\"Activity\"].str.contains(pattern, na=False, regex=True)\n",
    "attacks = attacks[mask]"
   ]
  },
  {
   "cell_type": "code",
   "execution_count": 18,
   "metadata": {},
   "outputs": [
    {
     "name": "stdout",
     "output_type": "stream",
     "text": [
      "The dataframe is shrinking more and more, the actual number of rows is 706.\n"
     ]
    }
   ],
   "source": [
    "print(f\"The dataframe is shrinking more and more, the actual number of rows is {attacks.shape[0]}.\")"
   ]
  },
  {
   "attachments": {},
   "cell_type": "markdown",
   "metadata": {},
   "source": [
    "To keep up with the cleaning process, we set year as index so that it makes it easier to work with the dataset. Also, we only want to maintain those attacks ocurred after 1990."
   ]
  },
  {
   "cell_type": "code",
   "execution_count": 19,
   "metadata": {},
   "outputs": [],
   "source": [
    "attacks.reset_index(inplace=True, drop=True)"
   ]
  },
  {
   "cell_type": "code",
   "execution_count": 20,
   "metadata": {},
   "outputs": [],
   "source": [
    "year_condition = (attacks[\"Year\"] >= 1990)"
   ]
  },
  {
   "cell_type": "code",
   "execution_count": 21,
   "metadata": {},
   "outputs": [],
   "source": [
    "attacks = attacks[year_condition]"
   ]
  },
  {
   "attachments": {},
   "cell_type": "markdown",
   "metadata": {},
   "source": [
    "### Time Column"
   ]
  },
  {
   "attachments": {},
   "cell_type": "markdown",
   "metadata": {},
   "source": [
    "Time variable is relevant for our study since John loves to surf at afternoons. He enjoys a lot to finish the surfing session drinking some fruit shakes while watching the sunset. We have to check what is the time of the day that sharks are more active to ensure that afternoon practices are safe for John.\n",
    "\n",
    "The times described in the dataframe respective column are mostly expressed in a format such as the following example: 13h00. There are other expressions such as Afternoon or Morning, but it is a minority that we will get rid of."
   ]
  },
  {
   "cell_type": "code",
   "execution_count": 22,
   "metadata": {},
   "outputs": [],
   "source": [
    "attacks[\"Time\"] = attacks[\"Time\"].apply(lambda x: (x.split(\"h\")[0]) if(type(x) == str) and (len(x) == 5) and (x[:2].isdigit()) else None)\n"
   ]
  },
  {
   "cell_type": "code",
   "execution_count": 23,
   "metadata": {},
   "outputs": [
    {
     "data": {
      "text/plain": [
       "<AxesSubplot: >"
      ]
     },
     "execution_count": 23,
     "metadata": {},
     "output_type": "execute_result"
    },
    {
     "data": {
      "image/png": "[encoded data removed]",
      "text/plain": [
       "<Figure size 432x288 with 1 Axes>"
      ]
     },
     "metadata": {
      "needs_background": "light"
     },
     "output_type": "display_data"
    }
   ],
   "source": [
    "attacks[\"Time\"].value_counts().plot(kind=\"bar\") # organize by time ()"
   ]
  },
  {
   "attachments": {},
   "cell_type": "markdown",
   "metadata": {},
   "source": [
    "We actually have a dataframe which contains data from shark attacks in the U.S. States of Florida, California and Hawaii, focusing only on those whose victims were doing activities with a common point, a board.\n",
    "\n",
    "Another important point would be to get the day and month of the attacks from the Date column."
   ]
  },
  {
   "attachments": {},
   "cell_type": "markdown",
   "metadata": {},
   "source": [
    "### Month Column (new)"
   ]
  },
  {
   "cell_type": "code",
   "execution_count": 24,
   "metadata": {},
   "outputs": [],
   "source": [
    "attacks[\"Month\"] = attacks[\"Date\"].apply(lambda x: (x.split(\"-\")[1]) if(type(x) == str) and (len(x) == 11) else None)"
   ]
  },
  {
   "cell_type": "code",
   "execution_count": 25,
   "metadata": {},
   "outputs": [],
   "source": [
    "attacks[\"Month\"] = attacks[\"Month\"].apply(month_number)"
   ]
  },
  {
   "attachments": {},
   "cell_type": "markdown",
   "metadata": {},
   "source": [
    "### Day Column (new)"
   ]
  },
  {
   "attachments": {},
   "cell_type": "markdown",
   "metadata": {},
   "source": [
    "To get the weekday according to the given date, we import the datetime library and we do the following process:"
   ]
  },
  {
   "cell_type": "code",
   "execution_count": 26,
   "metadata": {},
   "outputs": [],
   "source": [
    "def day_year(year_column):\n",
    "    year = year_column\n",
    "    try:\n",
    "        year = int(year_column)\n",
    "    except ValueError:\n",
    "        pass\n",
    "\n",
    "    return year\n",
    "\n",
    "def day_month(month_column):\n",
    "    month = month_column\n",
    "    try:\n",
    "        month = int(str(month).split(\".\")[0])\n",
    "    except ValueError:\n",
    "        pass\n",
    "\n",
    "    return month\n",
    "\n",
    "def day_date(date_column):\n",
    "    day = date_column\n",
    "    try:\n",
    "        day = int(date_column[:2])    \n",
    "    except ValueError:\n",
    "        pass\n",
    "    \n",
    "    return day"
   ]
  },
  {
   "cell_type": "code",
   "execution_count": 27,
   "metadata": {},
   "outputs": [],
   "source": [
    "attacks[\"Year\"] = attacks[\"Year\"].apply(day_year)"
   ]
  },
  {
   "cell_type": "code",
   "execution_count": 28,
   "metadata": {},
   "outputs": [],
   "source": [
    "attacks[\"Day\"] = attacks[\"Date\"].apply(day_date)"
   ]
  },
  {
   "cell_type": "code",
   "execution_count": 29,
   "metadata": {},
   "outputs": [],
   "source": [
    "def weekdays (df):\n",
    "    weekdays_list = []\n",
    "    for i in range(df.shape[0]): \n",
    "        try:\n",
    "            weekday = datetime.date(attacks[\"Year\"][i], int(attacks[\"Month\"][i]), attacks[\"Day\"][i]).strftime(\"%A\")\n",
    "            weekdays_list.append(weekday)\n",
    "        except ValueError:\n",
    "            weekdays_list.append(np.nan)\n",
    "\n",
    "    df[\"Weekday\"] = weekdays_list\n",
    "\n",
    "weekdays (attacks)"
   ]
  },
  {
   "cell_type": "code",
   "execution_count": 30,
   "metadata": {},
   "outputs": [],
   "source": [
    "attacks[\"Type\"] = attacks[\"Type\"].apply(lambda x: x if x == \"Provoked\" or x == \"Unprovoked\" else np.nan) \n",
    "\n",
    "attacks[\"Fatal (Y/N)\"] = attacks[\"Fatal (Y/N)\"].apply(lambda x: x if x == \"N\" or x ==\"Y\" else np.nan)\n",
    "\n",
    "attacks[\"Sex \"] = attacks[\"Sex \"].apply(lambda x: x if x == \"M\" or x == \"F\" else np.nan)\n",
    "\n",
    "attacks[\"Age\"] = attacks[\"Age\"].apply(lambda x: int(x) if type(x) == str and x.isdigit() else np.nan)"
   ]
  },
  {
   "attachments": {},
   "cell_type": "markdown",
   "metadata": {},
   "source": [
    "Now that we have walked every step of the cleaning process according to John's interests, we have a much cleaner dataframe with respect to its initial status. It's all set to make a deep analysis of the data and provide visual conclusions for John to understand the historic of sharks' attacks."
   ]
  },
  {
   "cell_type": "code",
   "execution_count": 31,
   "metadata": {},
   "outputs": [
    {
     "data": {
      "text/html": [
       "<div>\n",
       "<style scoped>\n",
       "    .dataframe tbody tr th:only-of-type {\n",
       "        vertical-align: middle;\n",
       "    }\n",
       "\n",
       "    .dataframe tbody tr th {\n",
       "        vertical-align: top;\n",
       "    }\n",
       "\n",
       "    .dataframe thead th {\n",
       "        text-align: right;\n",
       "    }\n",
       "</style>\n",
       "<table border=\"1\" class=\"dataframe\">\n",
       "  <thead>\n",
       "    <tr style=\"text-align: right;\">\n",
       "      <th></th>\n",
       "      <th>Date</th>\n",
       "      <th>Year</th>\n",
       "      <th>Type</th>\n",
       "      <th>Country</th>\n",
       "      <th>Area</th>\n",
       "      <th>Location</th>\n",
       "      <th>Activity</th>\n",
       "      <th>Name</th>\n",
       "      <th>Sex</th>\n",
       "      <th>Age</th>\n",
       "      <th>Injury</th>\n",
       "      <th>Fatal (Y/N)</th>\n",
       "      <th>Time</th>\n",
       "      <th>Species</th>\n",
       "      <th>Month</th>\n",
       "      <th>Day</th>\n",
       "      <th>Weekday</th>\n",
       "    </tr>\n",
       "  </thead>\n",
       "  <tbody>\n",
       "    <tr>\n",
       "      <th>0</th>\n",
       "      <td>09-Jun-2018</td>\n",
       "      <td>2018</td>\n",
       "      <td>NaN</td>\n",
       "      <td>USA</td>\n",
       "      <td>Hawaii</td>\n",
       "      <td>Habush, Oahu</td>\n",
       "      <td>Surfing</td>\n",
       "      <td>John Denges</td>\n",
       "      <td>M</td>\n",
       "      <td>48.0</td>\n",
       "      <td>Injury to left lower leg from surfboard skeg</td>\n",
       "      <td>N</td>\n",
       "      <td>07</td>\n",
       "      <td>NaN</td>\n",
       "      <td>6.0</td>\n",
       "      <td>9</td>\n",
       "      <td>Saturday</td>\n",
       "    </tr>\n",
       "    <tr>\n",
       "      <th>1</th>\n",
       "      <td>19-Apr-2018</td>\n",
       "      <td>2018</td>\n",
       "      <td>Unprovoked</td>\n",
       "      <td>USA</td>\n",
       "      <td>Hawaii</td>\n",
       "      <td>Shipwrecks Beach, Keoneloa Bay, Kauai</td>\n",
       "      <td>Body boarding</td>\n",
       "      <td>Dylan McWilliams</td>\n",
       "      <td>M</td>\n",
       "      <td>29.0</td>\n",
       "      <td>Lacerations to right lower leg</td>\n",
       "      <td>N</td>\n",
       "      <td>None</td>\n",
       "      <td>6' shark</td>\n",
       "      <td>4.0</td>\n",
       "      <td>19</td>\n",
       "      <td>Thursday</td>\n",
       "    </tr>\n",
       "    <tr>\n",
       "      <th>2</th>\n",
       "      <td>31-Mar-2018</td>\n",
       "      <td>2018</td>\n",
       "      <td>Unprovoked</td>\n",
       "      <td>USA</td>\n",
       "      <td>Hawaii</td>\n",
       "      <td>Kukio Beach</td>\n",
       "      <td>Stand-Up Paddleboarding</td>\n",
       "      <td>male</td>\n",
       "      <td>M</td>\n",
       "      <td>25.0</td>\n",
       "      <td>Injuries to right leg &amp; hand</td>\n",
       "      <td>N</td>\n",
       "      <td>09</td>\n",
       "      <td>Tiger shark, 12'</td>\n",
       "      <td>3.0</td>\n",
       "      <td>31</td>\n",
       "      <td>Saturday</td>\n",
       "    </tr>\n",
       "    <tr>\n",
       "      <th>3</th>\n",
       "      <td>31-Dec-2017</td>\n",
       "      <td>2017</td>\n",
       "      <td>Unprovoked</td>\n",
       "      <td>USA</td>\n",
       "      <td>Hawaii</td>\n",
       "      <td>Hultin's Beach, Oahu</td>\n",
       "      <td>Surfing</td>\n",
       "      <td>Marjorie Mariano</td>\n",
       "      <td>F</td>\n",
       "      <td>54.0</td>\n",
       "      <td>Severe lacerations to left thigh &amp; knee</td>\n",
       "      <td>N</td>\n",
       "      <td>18</td>\n",
       "      <td>Tiger shark</td>\n",
       "      <td>12.0</td>\n",
       "      <td>31</td>\n",
       "      <td>Sunday</td>\n",
       "    </tr>\n",
       "    <tr>\n",
       "      <th>4</th>\n",
       "      <td>30-Dec-2017</td>\n",
       "      <td>2017</td>\n",
       "      <td>Unprovoked</td>\n",
       "      <td>USA</td>\n",
       "      <td>California</td>\n",
       "      <td>Drakes Estero, Point Reyes, Marin County</td>\n",
       "      <td>Surfing</td>\n",
       "      <td>Natalie Jones</td>\n",
       "      <td>F</td>\n",
       "      <td>35.0</td>\n",
       "      <td>Foot bitten</td>\n",
       "      <td>N</td>\n",
       "      <td>12</td>\n",
       "      <td>NaN</td>\n",
       "      <td>12.0</td>\n",
       "      <td>30</td>\n",
       "      <td>Saturday</td>\n",
       "    </tr>\n",
       "    <tr>\n",
       "      <th>5</th>\n",
       "      <td>18-Nov-2017</td>\n",
       "      <td>2017</td>\n",
       "      <td>Unprovoked</td>\n",
       "      <td>USA</td>\n",
       "      <td>Florida</td>\n",
       "      <td>Floridana Beach, Brevard County</td>\n",
       "      <td>Surfing</td>\n",
       "      <td>Kaia Anderson</td>\n",
       "      <td>F</td>\n",
       "      <td>14.0</td>\n",
       "      <td>Heel bitten</td>\n",
       "      <td>N</td>\n",
       "      <td>None</td>\n",
       "      <td>NaN</td>\n",
       "      <td>11.0</td>\n",
       "      <td>18</td>\n",
       "      <td>Saturday</td>\n",
       "    </tr>\n",
       "    <tr>\n",
       "      <th>6</th>\n",
       "      <td>26-Oct-2017</td>\n",
       "      <td>2017</td>\n",
       "      <td>Unprovoked</td>\n",
       "      <td>USA</td>\n",
       "      <td>Hawaii</td>\n",
       "      <td>White Plains Beach, Oahu</td>\n",
       "      <td>Stand-Up Paddleboarding</td>\n",
       "      <td>male</td>\n",
       "      <td>M</td>\n",
       "      <td>NaN</td>\n",
       "      <td>No injury but shark bit SUP</td>\n",
       "      <td>N</td>\n",
       "      <td>15</td>\n",
       "      <td>NaN</td>\n",
       "      <td>10.0</td>\n",
       "      <td>26</td>\n",
       "      <td>Thursday</td>\n",
       "    </tr>\n",
       "    <tr>\n",
       "      <th>7</th>\n",
       "      <td>23-Oct-2017</td>\n",
       "      <td>2017</td>\n",
       "      <td>Unprovoked</td>\n",
       "      <td>USA</td>\n",
       "      <td>Florida</td>\n",
       "      <td>Juno Beach, Palm Beach County</td>\n",
       "      <td>Surfing</td>\n",
       "      <td>Jason Hartl</td>\n",
       "      <td>M</td>\n",
       "      <td>17.0</td>\n",
       "      <td>Lacerations to left foot</td>\n",
       "      <td>N</td>\n",
       "      <td>17</td>\n",
       "      <td>NaN</td>\n",
       "      <td>10.0</td>\n",
       "      <td>23</td>\n",
       "      <td>Monday</td>\n",
       "    </tr>\n",
       "    <tr>\n",
       "      <th>8</th>\n",
       "      <td>09-Oct-2017</td>\n",
       "      <td>2017</td>\n",
       "      <td>Unprovoked</td>\n",
       "      <td>USA</td>\n",
       "      <td>Hawaii</td>\n",
       "      <td>Davidsons Beach, Kekaha, Kauai</td>\n",
       "      <td>Surfing</td>\n",
       "      <td>Mitch Milan</td>\n",
       "      <td>M</td>\n",
       "      <td>54.0</td>\n",
       "      <td>Lacerations to left hand</td>\n",
       "      <td>N</td>\n",
       "      <td>18</td>\n",
       "      <td>Tiger shark, 8 to 10 feet</td>\n",
       "      <td>10.0</td>\n",
       "      <td>9</td>\n",
       "      <td>Monday</td>\n",
       "    </tr>\n",
       "    <tr>\n",
       "      <th>9</th>\n",
       "      <td>25-Sep-2017</td>\n",
       "      <td>2017</td>\n",
       "      <td>Unprovoked</td>\n",
       "      <td>USA</td>\n",
       "      <td>Florida</td>\n",
       "      <td>Hanna Park, Jacksonville, Duval County</td>\n",
       "      <td>Surfing</td>\n",
       "      <td>Justin White</td>\n",
       "      <td>M</td>\n",
       "      <td>NaN</td>\n",
       "      <td>Lacerations to lower left leg and foot</td>\n",
       "      <td>N</td>\n",
       "      <td>None</td>\n",
       "      <td>5' shark</td>\n",
       "      <td>9.0</td>\n",
       "      <td>25</td>\n",
       "      <td>Monday</td>\n",
       "    </tr>\n",
       "    <tr>\n",
       "      <th>10</th>\n",
       "      <td>24-Sep-2017</td>\n",
       "      <td>2017</td>\n",
       "      <td>Unprovoked</td>\n",
       "      <td>USA</td>\n",
       "      <td>Florida</td>\n",
       "      <td>Fort Worth</td>\n",
       "      <td>Surfing</td>\n",
       "      <td>male</td>\n",
       "      <td>M</td>\n",
       "      <td>NaN</td>\n",
       "      <td>Laceration to upper arm</td>\n",
       "      <td>N</td>\n",
       "      <td>14</td>\n",
       "      <td>4' to 5' shark</td>\n",
       "      <td>9.0</td>\n",
       "      <td>24</td>\n",
       "      <td>Sunday</td>\n",
       "    </tr>\n",
       "    <tr>\n",
       "      <th>11</th>\n",
       "      <td>20-Sep-2017</td>\n",
       "      <td>2017</td>\n",
       "      <td>Unprovoked</td>\n",
       "      <td>USA</td>\n",
       "      <td>Florida</td>\n",
       "      <td>Palm Beach County</td>\n",
       "      <td>Surfing</td>\n",
       "      <td>Richard Inniss</td>\n",
       "      <td>M</td>\n",
       "      <td>NaN</td>\n",
       "      <td>Minor lacerations to sole of left foot</td>\n",
       "      <td>N</td>\n",
       "      <td>None</td>\n",
       "      <td>NaN</td>\n",
       "      <td>9.0</td>\n",
       "      <td>20</td>\n",
       "      <td>Wednesday</td>\n",
       "    </tr>\n",
       "  </tbody>\n",
       "</table>\n",
       "</div>"
      ],
      "text/plain": [
       "           Date  Year        Type Country        Area  \\\n",
       "0   09-Jun-2018  2018         NaN     USA      Hawaii   \n",
       "1   19-Apr-2018  2018  Unprovoked     USA      Hawaii   \n",
       "2   31-Mar-2018  2018  Unprovoked     USA      Hawaii   \n",
       "3   31-Dec-2017  2017  Unprovoked     USA      Hawaii   \n",
       "4   30-Dec-2017  2017  Unprovoked     USA  California   \n",
       "5   18-Nov-2017  2017  Unprovoked     USA     Florida   \n",
       "6   26-Oct-2017  2017  Unprovoked     USA      Hawaii   \n",
       "7   23-Oct-2017  2017  Unprovoked     USA     Florida   \n",
       "8   09-Oct-2017  2017  Unprovoked     USA      Hawaii   \n",
       "9   25-Sep-2017  2017  Unprovoked     USA     Florida   \n",
       "10  24-Sep-2017  2017  Unprovoked     USA     Florida   \n",
       "11  20-Sep-2017  2017  Unprovoked     USA     Florida   \n",
       "\n",
       "                                    Location                 Activity  \\\n",
       "0                               Habush, Oahu                  Surfing   \n",
       "1     Shipwrecks Beach, Keoneloa Bay, Kauai            Body boarding   \n",
       "2                                Kukio Beach  Stand-Up Paddleboarding   \n",
       "3                       Hultin's Beach, Oahu                  Surfing   \n",
       "4   Drakes Estero, Point Reyes, Marin County                  Surfing   \n",
       "5            Floridana Beach, Brevard County                  Surfing   \n",
       "6                   White Plains Beach, Oahu  Stand-Up Paddleboarding   \n",
       "7              Juno Beach, Palm Beach County                 Surfing    \n",
       "8             Davidsons Beach, Kekaha, Kauai                  Surfing   \n",
       "9     Hanna Park, Jacksonville, Duval County                  Surfing   \n",
       "10                                Fort Worth                  Surfing   \n",
       "11                         Palm Beach County                  Surfing   \n",
       "\n",
       "                Name Sex    Age                                        Injury  \\\n",
       "0        John Denges    M  48.0  Injury to left lower leg from surfboard skeg   \n",
       "1   Dylan McWilliams    M  29.0                Lacerations to right lower leg   \n",
       "2               male    M  25.0                  Injuries to right leg & hand   \n",
       "3   Marjorie Mariano    F  54.0       Severe lacerations to left thigh & knee   \n",
       "4      Natalie Jones    F  35.0                                   Foot bitten   \n",
       "5      Kaia Anderson    F  14.0                                   Heel bitten   \n",
       "6               male    M   NaN                   No injury but shark bit SUP   \n",
       "7        Jason Hartl    M  17.0                      Lacerations to left foot   \n",
       "8        Mitch Milan    M  54.0                      Lacerations to left hand   \n",
       "9       Justin White    M   NaN        Lacerations to lower left leg and foot   \n",
       "10              male    M   NaN                       Laceration to upper arm   \n",
       "11    Richard Inniss    M   NaN        Minor lacerations to sole of left foot   \n",
       "\n",
       "   Fatal (Y/N)  Time                   Species   Month Day    Weekday  \n",
       "0            N    07                        NaN    6.0   9   Saturday  \n",
       "1            N  None                   6' shark    4.0  19   Thursday  \n",
       "2            N    09           Tiger shark, 12'    3.0  31   Saturday  \n",
       "3            N    18                Tiger shark   12.0  31     Sunday  \n",
       "4            N    12                        NaN   12.0  30   Saturday  \n",
       "5            N  None                        NaN   11.0  18   Saturday  \n",
       "6            N    15                        NaN   10.0  26   Thursday  \n",
       "7            N    17                        NaN   10.0  23     Monday  \n",
       "8            N    18  Tiger shark, 8 to 10 feet   10.0   9     Monday  \n",
       "9            N  None                   5' shark    9.0  25     Monday  \n",
       "10           N    14             4' to 5' shark    9.0  24     Sunday  \n",
       "11           N  None                        NaN    9.0  20  Wednesday  "
      ]
     },
     "execution_count": 31,
     "metadata": {},
     "output_type": "execute_result"
    }
   ],
   "source": [
    "attacks.head(12)"
   ]
  },
  {
   "cell_type": "code",
   "execution_count": 32,
   "metadata": {},
   "outputs": [],
   "source": [
    "# Copy of the cleaned version of attacks -> to be used for visualization and analyses purposes.\n",
    "attacks.to_csv(\"attacks_cleaned.csv\")"
   ]
  }
 ],
 "metadata": {
  "kernelspec": {
   "display_name": "ironhack",
   "language": "python",
   "name": "python3"
  },
  "language_info": {
   "codemirror_mode": {
    "name": "ipython",
    "version": 3
   },
   "file_extension": ".py",
   "mimetype": "text/x-python",
   "name": "python",
   "nbconvert_exporter": "python",
   "pygments_lexer": "ipython3",
   "version": "3.9.12"
  },
  "orig_nbformat": 4,
  "vscode": {
   "interpreter": {
    "hash": "79e8e12960902be9b96136e06f35e6a59d5d8c359e0492f5e08d8a671bbdf383"
   }
  }
 },
 "nbformat": 4,
 "nbformat_minor": 2
}
